{
 "cells": [
  {
   "cell_type": "code",
   "execution_count": 22,
   "metadata": {},
   "outputs": [
    {
     "data": {
      "text/plain": [
       "{'transaction_type': 'deposit', 'sum': 124.23}"
      ]
     },
     "execution_count": 22,
     "metadata": {},
     "output_type": "execute_result"
    }
   ],
   "source": [
    "d = {\n",
    "        \"date\": '2025-01-01',\n",
    "        \"transaction_type\": 'deposit',\n",
    "        \"count\": 30,\n",
    "        \"sum\": 124.23\n",
    "    }\n",
    "\n",
    "key = d['date']\n",
    "count_column_family_records = {c[0]: c[1] for c in d.items() if c[0] != 'date' and  c[0] in(['transaction_type', 'count'])}\n",
    "sum_column_family_records =  {c[0]: c[1] for c in d.items() if c[0] != 'date' and  c[0] in(['transaction_type', 'sum'])}\n",
    "sum_column_family_records"
   ]
  },
  {
   "cell_type": "code",
   "execution_count": 46,
   "metadata": {},
   "outputs": [
    {
     "data": {
      "text/plain": [
       "'2025-05-20'"
      ]
     },
     "execution_count": 46,
     "metadata": {},
     "output_type": "execute_result"
    }
   ],
   "source": [
    "','.join(['2025-05-20'])"
   ]
  },
  {
   "cell_type": "code",
   "execution_count": 29,
   "metadata": {},
   "outputs": [
    {
     "data": {
      "text/plain": [
       "['gs://financial_transactions_daily_summary/financial_transaction_daily_summary_2025-01-01.csv',\n",
       " 'gs://financial_transactions_daily_summary/financial_transaction_daily_summary_2025-01-03.csv',\n",
       " 'gs://financial_transactions_daily_summary/financial_transaction_daily_summary_2025-01-04.csv']"
      ]
     },
     "execution_count": 29,
     "metadata": {},
     "output_type": "execute_result"
    }
   ],
   "source": [
    "dates= '2025-01-01,2025-01-03,2025-01-04' \n",
    "date_suffixes = dates.split(',')\n",
    "[f\"gs://{'financial_transactions_daily_summary'}/financial_transaction_daily_summary_{date}.csv\" for date in date_suffixes]"
   ]
  },
  {
   "cell_type": "code",
   "execution_count": 43,
   "metadata": {},
   "outputs": [
    {
     "name": "stdout",
     "output_type": "stream",
     "text": [
      "\n",
      "--- Scan all rows ---\n"
     ]
    },
    {
     "name": "stderr",
     "output_type": "stream",
     "text": [
      "I0000 00:00:1747725211.250246 11308486 check_gcp_environment_no_op.cc:29] ALTS: Platforms other than Linux and Windows are not supported\n"
     ]
    },
    {
     "name": "stdout",
     "output_type": "stream",
     "text": [
      "2000-11-05 {'count:deposit': '300', 'sum:deposit': '4000'}\n",
      "2025-05-14 {'count:deposit': '356', 'count:deposit_lowTransactionValue': 'false', 'count:payment': '349', 'count:payment_lowTransactionValue': 'false', 'count:transfer': '347', 'count:transfer_lowTransactionValue': 'false', 'count:withdrawal': '348', 'count:withdrawal_lowTransactionValue': 'false', 'sum:deposit': '-39013.75', 'sum:payment': '13194.330000000002', 'sum:transfer': '-70032.12999999999', 'sum:withdrawal': '43342.41'}\n",
      "2025-05-15 {'count:deposit': '711', 'count:deposit_lowTransactionValue': 'false', 'count:payment': '704', 'count:payment_lowTransactionValue': 'false', 'count:transfer': '646', 'count:transfer_lowTransactionValue': 'false', 'count:withdrawal': '649', 'count:withdrawal_lowTransactionValue': 'false', 'sum:deposit': '-3203.1699999999937', 'sum:payment': '-33785.06', 'sum:transfer': '-39880.80999999999', 'sum:withdrawal': '23924.22000000001'}\n",
      "2025-05-16 {'count:deposit': '168', 'count:deposit_lowTransactionValue': 'false', 'count:payment': '201', 'count:payment_lowTransactionValue': 'false', 'count:transfer': '192', 'count:transfer_lowTransactionValue': 'false', 'count:withdrawal': '188', 'count:withdrawal_lowTransactionValue': 'false', 'sum:deposit': '-26885.6', 'sum:payment': '-68170.45', 'sum:transfer': '-67098.73999999999', 'sum:withdrawal': '-83790.92'}\n",
      "2025-05-17 {'count:deposit': '138', 'count:deposit_lowTransactionValue': 'false', 'count:payment': '144', 'count:payment_lowTransactionValue': 'false', 'count:transfer': '152', 'count:transfer_lowTransactionValue': 'false', 'count:withdrawal': '142', 'count:withdrawal_lowTransactionValue': 'false', 'sum:deposit': '5295.299999999997', 'sum:payment': '43160.79', 'sum:transfer': '2631.3500000000004', 'sum:withdrawal': '822.9800000000005'}\n",
      "2025-05-18 {'count:deposit': '176', 'count:deposit_lowTransactionValue': 'false', 'count:payment': '163', 'count:payment_lowTransactionValue': 'false', 'count:transfer': '142', 'count:transfer_lowTransactionValue': 'false', 'count:withdrawal': '158', 'count:withdrawal_lowTransactionValue': 'false', 'sum:deposit': '-26005.9', 'sum:payment': '87443.73', 'sum:transfer': '46510.4', 'sum:withdrawal': '22212.480000000003'}\n",
      "2025-05-19 {'count:deposit': '148', 'count:deposit_lowTransactionValue': 'false', 'count:payment': '139', 'count:payment_lowTransactionValue': 'false', 'count:transfer': '152', 'count:transfer_lowTransactionValue': 'false', 'count:withdrawal': '144', 'count:withdrawal_lowTransactionValue': 'false', 'sum:deposit': '-28329.79', 'sum:payment': '35512.12', 'sum:transfer': '-190.88000000000147', 'sum:withdrawal': '32404.570000000003'}\n"
     ]
    }
   ],
   "source": [
    "import apache_beam as beam\n",
    "from apache_beam.options.pipeline_options import PipelineOptions, SetupOptions\n",
    "from apache_beam.io.gcp.bigtableio import WriteToBigTable\n",
    "from google.cloud.bigtable.row import DirectRow\n",
    "import csv\n",
    "import re \n",
    "\n",
    "from google.cloud import storage\n",
    "from google.cloud import bigtable\n",
    "\n",
    "PROJECT_ID  = \"cloud-sql-big-table-data-flow\"\n",
    "BIGTABLE_INSTANCE_ID = \"fin-bt\"\n",
    "BIGTABLE_TABLE_ID    = \"daily_transactions_summaries_from_csv\"\n",
    "\n",
    "bigtable_client   = bigtable.Client(project=PROJECT_ID, admin=True)\n",
    "bigtable_instance = bigtable_client.instance(BIGTABLE_INSTANCE_ID)\n",
    "bigtable_table    = bigtable_instance.table(BIGTABLE_TABLE_ID)\n",
    "\n",
    "def scan_all():\n",
    "    print(\"\\n--- Scan all rows ---\")\n",
    "    partial = bigtable_table.read_rows()\n",
    "    partial.consume_all()\n",
    "    for row_key, row in partial.rows.items():\n",
    "        print(row_key.decode(), {\n",
    "            f\"{cf}:{col.decode()}\": cell[0].value.decode()\n",
    "            for cf, cols in row.cells.items()\n",
    "            for col, cell in cols.items()\n",
    "        })\n",
    "\n",
    "scan_all()        "
   ]
  },
  {
   "cell_type": "code",
   "execution_count": 37,
   "metadata": {},
   "outputs": [
    {
     "name": "stdout",
     "output_type": "stream",
     "text": [
      "\n",
      "--- Deleting row `2025-05-17` ---\n",
      "Deleted\n",
      "\n",
      "--- Deleting row `2025-05-18` ---\n",
      "Deleted\n"
     ]
    }
   ],
   "source": [
    "def delete_row(key):\n",
    "    print(f\"\\n--- Deleting row `{key}` ---\")\n",
    "    r = bigtable_table.direct_row(key)\n",
    "    r.delete()      # deletes entire row\n",
    "    r.commit()\n",
    "    print(\"Deleted\")\n",
    "\n",
    "dates_to_remove = ['2025-05-17', '2025-05-18']\n",
    "\n",
    "for d in dates_to_remove:\n",
    "    delete_row(d)"
   ]
  },
  {
   "cell_type": "code",
   "execution_count": 36,
   "metadata": {},
   "outputs": [
    {
     "name": "stdout",
     "output_type": "stream",
     "text": [
      "None\n",
      "{'date': '2025-05-14', 'transaction_type': 'deposit', 'count': 356, 'sum': -39013.75}\n",
      "{'date': '2025-05-14', 'transaction_type': 'payment', 'count': 349, 'sum': 13194.330000000002}\n",
      "{'date': '2025-05-14', 'transaction_type': 'transfer', 'count': 347, 'sum': -70032.12999999999}\n",
      "{'date': '2025-05-14', 'transaction_type': 'withdrawal', 'count': 348, 'sum': 43342.41}\n"
     ]
    }
   ],
   "source": [
    "import csv\n",
    "\n",
    "def read_line(line):\n",
    "    # line: a single line of CSV text\n",
    "    fields = next(csv.reader([line]))\n",
    "    if fields and fields[0] == 'transaction_date_yyyymmdd':  # adjust if actual header is different\n",
    "        return None\n",
    "    else:\n",
    "        return {\n",
    "            \"date\": fields[0],\n",
    "            \"transaction_type\": fields[1],\n",
    "            \"count\": int(fields[2]),\n",
    "            \"sum\": float(fields[3])\n",
    "        }\n",
    "\n",
    "file_path = '/Users/delgadonoriega/Desktop/gcp-data-eng-bootcamp/Module_2_class_1/financial-transactions-cloud-sql/flex_pipeline-dataflow/financial_transaction_daily_summary_2025-05-14.csv'\n",
    "\n",
    "results = []\n",
    "\n",
    "try:\n",
    "    with open(file_path, 'r') as csvfile:\n",
    "        for line in csvfile:\n",
    "            processed_data = read_line(line.strip())\n",
    "            print(processed_data)\n",
    "            if processed_data:\n",
    "                results.append(processed_data)\n",
    "except FileNotFoundError:\n",
    "    print(f\"❌ Error: File not found at {file_path}\")\n"
   ]
  },
  {
   "cell_type": "code",
   "execution_count": null,
   "metadata": {},
   "outputs": [],
   "source": [
    "# files_not_yet_processed_default_parameter(generate_dates_captured_in_GCS(),\n",
    "#                                           fetch_captured_dates_in_big_table())\n",
    "\n",
    "# def insert_demo_rows():\n",
    "#     rows = [\n",
    "#         (\"2000-11-05\", {\"count:deposit\": \"300\", \"sum:deposit\": \"4000\"})\n",
    "#     ]\n",
    "#     for key, data in rows:\n",
    "#         r = bigtable_table.direct_row(key)\n",
    "#         for colfam_col, val in data.items():\n",
    "#             cf, col = colfam_col.split(\":\", 1)\n",
    "#             r.set_cell(cf, col, val)\n",
    "#         r.commit()\n",
    "#     print(\"Inserted demo rows\")\n",
    "\n",
    "# def scan_all():\n",
    "#     print(\"\\n--- Scan all rows ---\")\n",
    "#     partial = bigtable_table.read_rows()\n",
    "#     partial.consume_all()\n",
    "#     for row_key, row in partial.rows.items():\n",
    "#         print(row_key.decode(), {\n",
    "#             f\"{cf}:{col.decode()}\": cell[0].value.decode()\n",
    "#             for cf, cols in row.cells.items()\n",
    "#             for col, cell in cols.items()\n",
    "#         })\n",
    "\n",
    "\n",
    "# scan_all()"
   ]
  },
  {
   "cell_type": "code",
   "execution_count": null,
   "metadata": {},
   "outputs": [],
   "source": [
    "# else:\n",
    "#     key = rec['date'].encode(\"utf-8\")\n",
    "#     row = DirectRow(row_key=key)\n",
    "#     # separate 2 dicts for the different column families\n",
    "#     count_column_family_records = {c[0]: c[1] for c in rec.items() if c[0] != 'date' and  c[0] in(['transaction_type', 'count'])}\n",
    "#     sum_column_family_records =  {c[0]: c[1] for c in rec.items() if c[0] != 'date' and  c[0] in(['transaction_type', 'sum'])}\n",
    "    \n",
    "#     #Insert Count:x values\n",
    "#     for k,v in count_column_family_records.items():\n",
    "#         row.set_cell(\"count\", k, str(v).encode(\"utf-8\"))\n",
    "#     #transformation: flag low number of transaction \n",
    "#         if rec[\"count\"] < 30:\n",
    "#             row.set_cell(\"count\", f\"{rec['transaction_type']}_lowTransactionValue\", b\"true\")\n",
    "#         else:\n",
    "#             row.set_cell(\"count\", f\"{rec['transaction_type']}_lowTransactionValue\", b\"False\")\n",
    "#     #Insert Count:x values\n",
    "#     for k,v in sum_column_family_records.items():\n",
    "#         row.set_cell(\"sum\", k, str(v).encode(\"utf-8\"))\n",
    "\n",
    "#     return row"
   ]
  }
 ],
 "metadata": {
  "kernelspec": {
   "display_name": ".cloud_run",
   "language": "python",
   "name": "python3"
  },
  "language_info": {
   "codemirror_mode": {
    "name": "ipython",
    "version": 3
   },
   "file_extension": ".py",
   "mimetype": "text/x-python",
   "name": "python",
   "nbconvert_exporter": "python",
   "pygments_lexer": "ipython3",
   "version": "3.12.8"
  }
 },
 "nbformat": 4,
 "nbformat_minor": 2
}
